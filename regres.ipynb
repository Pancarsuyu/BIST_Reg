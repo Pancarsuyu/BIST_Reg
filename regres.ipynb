{
 "cells": [
  {
   "cell_type": "code",
   "id": "initial_id",
   "metadata": {
    "collapsed": true,
    "ExecuteTime": {
     "end_time": "2024-07-23T09:38:53.066880Z",
     "start_time": "2024-07-23T09:38:51.001052Z"
    }
   },
   "source": [
    "import yfinance as yf\n",
    "import pandas as pd\n",
    "import matplotlib.pyplot as plt\n",
    "import matplotlib\n",
    "matplotlib.use('Qt5Agg')\n",
    "from matplotlib.figure import Figure\n",
    "import numpy as np\n",
    "from sklearn.metrics import r2_score\n",
    "from PyQt5 import QtWidgets\n",
    "from PyQt5.QtWidgets import QApplication, QMainWindow, QVBoxLayout, QWidget, QComboBox, QPushButton, QHBoxLayout, QLabel\n",
    "from PyQt5.QtCore import Qt\n",
    "from PyQt5.QtGui import QColor, QPalette\n",
    "import sys\n"
   ],
   "outputs": [],
   "execution_count": 1
  },
  {
   "metadata": {
    "ExecuteTime": {
     "end_time": "2024-07-23T09:40:13.490786Z",
     "start_time": "2024-07-23T09:38:54.633155Z"
    }
   },
   "cell_type": "code",
   "source": [
    "        \n",
    "class MyWindow(QMainWindow):\n",
    "    def __init__(self):\n",
    "        super(MyWindow, self).__init__()\n",
    "        self.b1 = None\n",
    "        self.initUI() \n",
    "    \n",
    "    def button_clicked(self):\n",
    "        self.label.setText(\"Button clicked\")\n",
    "        print(\"Button clicked\")\n",
    "        self.update()\n",
    "        \n",
    "        self.plot_graph()\n",
    "    \n",
    "    def initUI(self):\n",
    "        self.setWindowTitle(\"Stock Prediction\")\n",
    "        self.setGeometry(0,0,1920,1080)\n",
    "        self.central_widget = QWidget(self)\n",
    "        self.setCentralWidget(self.central_widget)\n",
    "        self.label = QtWidgets.QLabel(self)\n",
    "        self.label.setText(\"Stock Prediction\")\n",
    "        self.label.move(50,50)\n",
    "        #self.plot_graph()\n",
    "        self.b1 = QtWidgets.QPushButton(self)\n",
    "        self.b1.setText(\"Click Me\")\n",
    "        self.b1.clicked.connect(self.button_clicked)\n",
    "        \n",
    "        layout = QVBoxLayout(self.central_widget)\n",
    "        self.comboBox = QtWidgets.QComboBox(self)\n",
    "        self.comboBox.addItems([\"EREGL.IS\",\"SASA.IS\",\"TKFEN.IS\",\"SISE.IS\",\"ENKAI.IS\",\"DOHOL.IS\",\"THYAO.IS\",\"EKGYO.IS\",\"PETKM.IS\"])\n",
    "        layout.addWidget(QLabel(\"Stock Prediction\"))\n",
    "        layout.addWidget(self.comboBox)\n",
    "        \n",
    "        self.model1_button = QPushButton(\"Model 1\")\n",
    "        self.model2_button = QPushButton(\"Model 2\")\n",
    "        self.model1_button.setCheckable(True)\n",
    "        self.model2_button.setCheckable(True)\n",
    "        \n",
    "        self.model1_button.clicked.connect(self.on_button_clicked)\n",
    "        self.model2_button.clicked.connect(self.on_button_clicked)\n",
    "        \n",
    "        button_layout = QHBoxLayout()\n",
    "        button_layout.addWidget(self.model1_button)\n",
    "        button_layout.addWidget(self.model2_button)\n",
    "        \n",
    "        layout.addWidget(QLabel(\"Model:\"))\n",
    "        layout.addLayout(button_layout)\n",
    "        \n",
    "        self.show_selection_button = QPushButton(\"Seçimleri Göster\")\n",
    "        self.show_selection_button.clicked.connect(self.show_selection)\n",
    "        layout.addWidget(self.show_selection_button)\n",
    "        \n",
    "    def on_button_clicked(self):\n",
    "        # Buton seçimini yönetme\n",
    "        sender = self.sender()\n",
    "        if sender == self.model1_button:\n",
    "            self.model2_button.setChecked(False)\n",
    "        elif sender == self.model2_button:\n",
    "            self.model1_button.setChecked(False)\n",
    "\n",
    "        # Seçilen butonun rengini değiştirme\n",
    "        self.update_button_colors()\n",
    "        \n",
    "        \n",
    "    def update_button_colors(self):\n",
    "        # Butonların renklerini ayarlama\n",
    "        selected_color = QColor(0, 255, 0)  # Yeşil renk\n",
    "        default_color = QColor(255, 255, 255)  # Beyaz renk\n",
    "        \n",
    "        palette = self.model1_button.palette()\n",
    "        if self.model1_button.isChecked():\n",
    "            palette.setColor(QPalette.Button, selected_color)\n",
    "        else:\n",
    "            palette.setColor(QPalette.Button, default_color)\n",
    "        self.model1_button.setPalette(palette)\n",
    "        self.model1_button.setAutoFillBackground(True)\n",
    "        \n",
    "        palette = self.model2_button.palette()\n",
    "        if self.model2_button.isChecked():\n",
    "            palette.setColor(QPalette.Button, selected_color)\n",
    "        else:\n",
    "            palette.setColor(QPalette.Button, default_color)\n",
    "        self.model2_button.setPalette(palette)\n",
    "        self.model2_button.setAutoFillBackground(True)\n",
    "\n",
    "    def show_selection(self):\n",
    "        # Seçimleri gösteren metin\n",
    "        selected_stock = self.comboBox.currentText()\n",
    "        selected_model = \"Model 1\" if self.model1_button.isChecked() else \"Model 2\" if self.model2_button.isChecked() else \"Hiçbiri\"\n",
    "        \n",
    "        \n",
    "        print(f\"Seçilen Hisse: {selected_stock}, Seçilen Model: {selected_model}\")\n",
    "        return selected_stock, selected_model\n",
    "        \n",
    "        \n",
    "        \n",
    "        \n",
    "\t    \n",
    "    def update(self):\n",
    "        self.label.adjustSize()\n",
    "    \n",
    "    def plot_graph(self):\n",
    "        selected_stock, selected_model = self.show_selection()\n",
    "        data = yf.download(selected_stock, start=\"2020-07-27\", interval=\"1d\")[\"Adj Close\"]\n",
    "        data = pd.DataFrame(data)\n",
    "        data.rename(columns={\"Adj Close\": \"Fiyat\"}, inplace=True)\n",
    "        x = np.arange(len(data[\"Fiyat\"]))\n",
    "        y = data[\"Fiyat\"]\n",
    "        katsayı = np.polyfit(x,y,2)\n",
    "        polfonk = np.poly1d(katsayı)\n",
    "        trend = polfonk(x)\n",
    "        r2 = r2_score(y, trend)\n",
    "        hata = y-trend\n",
    "        ss = np.std(hata)\n",
    "        plt.figure()\n",
    "        plt.plot(data.index, y, \"b.\", label = \"Hisse\")\n",
    "        plt.plot(data.index, trend, \"r-\", label = \"Trend\")\n",
    "        plt.fill_between(data.index, trend-ss, trend+ss, color = \"navy\", alpha = 0.3, label = \"±1 Standart Sapma\")\n",
    "        plt.fill_between(data.index, trend-2*ss, trend+2*ss, color = \"darkred\", alpha = 0.3, label = \"±2 Standart Sapma\")\n",
    "        plt.fill_between(data.index, trend-3*ss, trend+3*ss, color = \"gray\", alpha = 0.3, label = \"±3 Standart Sapma\")\n",
    "        plt.title(f\"Hisse Polinomal Regresyon (R-Kare: {r2:.2f})\")\n",
    "        plt.legend(loc = \"upper left\")\n",
    "        \n",
    "        plt.show()\n",
    "        \n",
    "    \n",
    "    \n",
    "        \n",
    "    \n",
    "    \n",
    "def window():\n",
    "    app = QApplication(sys.argv)\n",
    "    win = MyWindow()\n",
    "    win.show()\n",
    "    sys.exit(app.exec_())\n",
    "\n",
    "window()\n",
    "\n",
    "    \n"
   ],
   "id": "ac2db59c7882a597",
   "outputs": [
    {
     "name": "stdout",
     "output_type": "stream",
     "text": [
      "Button clicked\n",
      "Seçilen Hisse: PETKM.IS, Seçilen Model: Hiçbiri\n"
     ]
    },
    {
     "name": "stderr",
     "output_type": "stream",
     "text": [
      "[*********************100%%**********************]  1 of 1 completed\n"
     ]
    },
    {
     "name": "stdout",
     "output_type": "stream",
     "text": [
      "Button clicked\n",
      "Seçilen Hisse: THYAO.IS, Seçilen Model: Hiçbiri\n"
     ]
    },
    {
     "name": "stderr",
     "output_type": "stream",
     "text": [
      "[*********************100%%**********************]  1 of 1 completed\n"
     ]
    },
    {
     "ename": "SystemExit",
     "evalue": "0",
     "output_type": "error",
     "traceback": [
      "An exception has occurred, use %tb to see the full traceback.\n",
      "\u001B[1;31mSystemExit\u001B[0m\u001B[1;31m:\u001B[0m 0\n"
     ]
    },
    {
     "name": "stderr",
     "output_type": "stream",
     "text": [
      "C:\\Users\\batuh\\PycharmProjects\\back2data\\.venv\\Lib\\site-packages\\IPython\\core\\interactiveshell.py:3585: UserWarning: To exit: use 'exit', 'quit', or Ctrl-D.\n",
      "  warn(\"To exit: use 'exit', 'quit', or Ctrl-D.\", stacklevel=1)\n"
     ]
    }
   ],
   "execution_count": 2
  },
  {
   "metadata": {
    "ExecuteTime": {
     "end_time": "2024-07-23T08:40:46.331390Z",
     "start_time": "2024-07-23T08:40:46.328549Z"
    }
   },
   "cell_type": "code",
   "source": "",
   "id": "9ff23fe45e948a9e",
   "outputs": [],
   "execution_count": 12
  },
  {
   "metadata": {
    "ExecuteTime": {
     "end_time": "2024-07-23T08:45:06.275550Z",
     "start_time": "2024-07-23T08:45:06.272377Z"
    }
   },
   "cell_type": "code",
   "source": "",
   "id": "a884d3509f8948ed",
   "outputs": [],
   "execution_count": null
  },
  {
   "metadata": {},
   "cell_type": "code",
   "outputs": [],
   "execution_count": null,
   "source": "",
   "id": "105f189285bdbfd4"
  }
 ],
 "metadata": {
  "kernelspec": {
   "display_name": "Python 3",
   "language": "python",
   "name": "python3"
  },
  "language_info": {
   "codemirror_mode": {
    "name": "ipython",
    "version": 2
   },
   "file_extension": ".py",
   "mimetype": "text/x-python",
   "name": "python",
   "nbconvert_exporter": "python",
   "pygments_lexer": "ipython2",
   "version": "2.7.6"
  }
 },
 "nbformat": 4,
 "nbformat_minor": 5
}
